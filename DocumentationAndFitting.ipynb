{
 "cells": [
  {
   "cell_type": "markdown",
   "id": "8e19a2e5",
   "metadata": {},
   "source": [
    "# Code Documentation"
   ]
  },
  {
   "cell_type": "markdown",
   "id": "a2496018",
   "metadata": {},
   "source": [
    "There are several ways to document code. It takes time and dedication to document well, but people will be greatly appreciative if you do so. \n",
    "\n",
    "In this tutorial you will learn epydoc documentation of functions and classes. "
   ]
  },
  {
   "cell_type": "code",
   "execution_count": null,
   "id": "2133b78a",
   "metadata": {},
   "outputs": [],
   "source": [
    "def read_file(file_loc, print_data=False):\n",
    "    \"\"\"Import/parse data and optional printout\n",
    "\n",
    "    @type file_loc: str\n",
    "    @param file_loc: The file location of the text file\n",
    "    @type print_data: bool\n",
    "    @param print_data: A flag used to print the data to the console\n",
    "        (default is False)\n",
    "    @rtype: ndarray\n",
    "    @returns: a ndarray with data\n",
    "    \"\"\"\n",
    "\n",
    "    \n",
    "    return data\n",
    "    "
   ]
  },
  {
   "cell_type": "code",
   "execution_count": 1,
   "id": "1eda19ef",
   "metadata": {},
   "outputs": [],
   "source": [
    "# READ 1d data files from github\n"
   ]
  },
  {
   "cell_type": "code",
   "execution_count": 2,
   "id": "ffc7559b",
   "metadata": {},
   "outputs": [],
   "source": []
  },
  {
   "cell_type": "code",
   "execution_count": 3,
   "id": "2cbf0579",
   "metadata": {},
   "outputs": [],
   "source": [
    "# Plot arrays using matplotlib's plot functionality\n",
    "\n",
    "# step 1: have you installed matplotlib?\n",
    "# step 2: import matplotlib\n",
    "# step 3: use plot and show from matplotlib\n"
   ]
  },
  {
   "cell_type": "markdown",
   "id": "b8c68bd7",
   "metadata": {},
   "source": [
    "What are the periods of both functions?\n",
    "\n",
    "How do you know?\n"
   ]
  },
  {
   "cell_type": "code",
   "execution_count": 4,
   "id": "08d00c96",
   "metadata": {},
   "outputs": [],
   "source": [
    "# Fitting function to data points\n",
    "\n",
    "import numpy as np\n",
    "from scipy.optimize import curve_fit\n",
    "import pylab as plt\n",
    "\n",
    "guess_freq = ?\n",
    "guess_amplitude = ?\n",
    "guess_phase = ?\n",
    "guess_offset = ?\n",
    "\n",
    "p0=[]\n",
    "\n",
    "# create the function we want to fit, and use documentation!!!\n",
    "def func():\n",
    "    return\n",
    "\n",
    "# now do the fit\n",
    "fit = curve_fit(func, t, data, p0=p0)\n",
    "\n",
    "# we'll use this to plot our first estimate. This might already be good enough for you\n",
    "data_first_guess = func(t, *p0)\n",
    "\n",
    "# recreate the fitted curve using the optimized parameters\n",
    "data_fit = func(t, *fit[0])\n",
    "\n",
    "plt.plot(data, '.')\n",
    "plt.plot(data_fit, label='after fitting')\n",
    "plt.plot(data_first_guess, label='first guess')\n",
    "plt.legend()\n",
    "plt.show()\n"
   ]
  },
  {
   "cell_type": "code",
   "execution_count": 5,
   "id": "d9da8b45",
   "metadata": {},
   "outputs": [],
   "source": [
    "# Subtract fitted functions from each other\n"
   ]
  },
  {
   "cell_type": "code",
   "execution_count": null,
   "id": "5872f929",
   "metadata": {},
   "outputs": [],
   "source": []
  },
  {
   "cell_type": "code",
   "execution_count": 33,
   "id": "1cb437a4",
   "metadata": {},
   "outputs": [
    {
     "name": "stdout",
     "output_type": "stream",
     "text": [
      "<class 'int'> [2, 4, 21] 3\n",
      "<class 'float'> [3.0] 1\n",
      "<class 'str'> ['a', 'b'] 2\n"
     ]
    }
   ],
   "source": [
    "l = [2, 4, 21, 3., 'a', 'b']\n",
    "\n",
    "# create function that returns the number of int, float and strings elements. \n",
    "# in above examples this is 3, 1, 2\n",
    "\n",
    "any_name = 'John'\n",
    "#print(type(any_name))\n",
    "\n",
    "def type_identification(array):\n",
    "    # solution 1\n",
    "    type_dict = {}\n",
    "    \n",
    "    for element in array:\n",
    "        #print(element, type(element))\n",
    "        \n",
    "        # if the type is existing in type_dict make the value associated to the key go up by 1\n",
    "        if type(element) in type_dict:\n",
    "            type_dict[type(element)] += 1\n",
    "            \n",
    "        # if not existing, type is new, so add it to dictionary and set value to one as you found one\n",
    "        else:\n",
    "            type_dict[type(element)] = 1\n",
    "    \n",
    "        #print(type_dict)\n",
    "\n",
    "    # solution 2\n",
    "    for t in (int, float, str, bool):\n",
    "        ints = [a for a in array if isinstance(a, t)]\n",
    "        if len(ints):\n",
    "            print(t, ints, len(ints))\n",
    "    \n",
    "type_identification(l)\n"
   ]
  },
  {
   "cell_type": "code",
   "execution_count": 7,
   "id": "62b79f51",
   "metadata": {},
   "outputs": [],
   "source": [
    "def determine_types(array):\n",
    "    types = {}\n",
    "    for a in array:\n",
    "        if type(a) in types: \n",
    "            types[type(a)] +=1\n",
    "        else:\n",
    "            types[type(a)] = 1\n",
    "    print(types)"
   ]
  },
  {
   "cell_type": "code",
   "execution_count": 6,
   "id": "030ee7af",
   "metadata": {},
   "outputs": [
    {
     "name": "stdout",
     "output_type": "stream",
     "text": [
      "{<class 'int'>: 3, <class 'float'>: 1, <class 'str'>: 2}\n"
     ]
    }
   ],
   "source": [
    "determine_types(l)"
   ]
  },
  {
   "cell_type": "code",
   "execution_count": null,
   "id": "bd157ade",
   "metadata": {},
   "outputs": [],
   "source": []
  }
 ],
 "metadata": {
  "kernelspec": {
   "display_name": "Python 3 (ipykernel)",
   "language": "python",
   "name": "python3"
  },
  "language_info": {
   "codemirror_mode": {
    "name": "ipython",
    "version": 3
   },
   "file_extension": ".py",
   "mimetype": "text/x-python",
   "name": "python",
   "nbconvert_exporter": "python",
   "pygments_lexer": "ipython3",
   "version": "3.9.7"
  }
 },
 "nbformat": 4,
 "nbformat_minor": 5
}
