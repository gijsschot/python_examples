{
 "cells": [
  {
   "cell_type": "markdown",
   "id": "8e19a2e5",
   "metadata": {},
   "source": [
    "# Code Documentation"
   ]
  },
  {
   "cell_type": "markdown",
   "id": "a2496018",
   "metadata": {},
   "source": [
    "There are several ways to document code. It takes time and dedication to document well, but people will be greatly appreciative if you do so. \n",
    "\n",
    "In this tutorial you will learn epydoc documentation of functions and classes. "
   ]
  },
  {
   "cell_type": "code",
   "execution_count": null,
   "id": "2133b78a",
   "metadata": {},
   "outputs": [],
   "source": [
    "def read_file(file_loc, print_cols=False):\n",
    "    \"\"\"Gets and prints the spreadsheet's header columns\n",
    "\n",
    "    @type file_loc: str\n",
    "    @param file_loc: The file location of the spreadsheet\n",
    "    @type print_cols: bool\n",
    "    @param print_cols: A flag used to print the columns to the console\n",
    "        (default is False)\n",
    "    @rtype: ndarray\n",
    "    @returns: a ndarray with data\n",
    "    \"\"\"\n",
    "\n",
    "    \n",
    "    return data\n",
    "    "
   ]
  },
  {
   "cell_type": "code",
   "execution_count": 1,
   "id": "1eda19ef",
   "metadata": {},
   "outputs": [],
   "source": [
    "# READ 1d data files\n"
   ]
  },
  {
   "cell_type": "code",
   "execution_count": 2,
   "id": "ffc7559b",
   "metadata": {},
   "outputs": [],
   "source": []
  },
  {
   "cell_type": "code",
   "execution_count": 3,
   "id": "2cbf0579",
   "metadata": {},
   "outputs": [],
   "source": [
    "# Plot arrays using matplotlib's plot functionality\n",
    "\n",
    "# step 1: have you installed matplotlib?\n",
    "# step 2: import matplotlib\n",
    "# step 3: use plot and show from matplotlib\n"
   ]
  },
  {
   "cell_type": "markdown",
   "id": "b8c68bd7",
   "metadata": {},
   "source": [
    "What are the periods of both functions?\n",
    "\n",
    "How do you know?\n"
   ]
  },
  {
   "cell_type": "code",
   "execution_count": 4,
   "id": "08d00c96",
   "metadata": {},
   "outputs": [],
   "source": [
    "# Fitting function to data points\n",
    "\n",
    "import numpy as np\n",
    "from scipy.optimize import curve_fit\n",
    "import pylab as plt\n",
    "\n",
    "guess_freq = ?\n",
    "guess_amplitude = ?\n",
    "guess_phase = ?\n",
    "guess_offset = ?\n",
    "\n",
    "p0=[]\n",
    "\n",
    "# create the function we want to fit, and use documentation!!!\n",
    "def func():\n",
    "    return\n",
    "\n",
    "# now do the fit\n",
    "fit = curve_fit(func, t, data, p0=p0)\n",
    "\n",
    "# we'll use this to plot our first estimate. This might already be good enough for you\n",
    "data_first_guess = func(t, *p0)\n",
    "\n",
    "# recreate the fitted curve using the optimized parameters\n",
    "data_fit = func(t, *fit[0])\n",
    "\n",
    "plt.plot(data, '.')\n",
    "plt.plot(data_fit, label='after fitting')\n",
    "plt.plot(data_first_guess, label='first guess')\n",
    "plt.legend()\n",
    "plt.show()\n"
   ]
  },
  {
   "cell_type": "code",
   "execution_count": 5,
   "id": "d9da8b45",
   "metadata": {},
   "outputs": [],
   "source": [
    "# Subtract fitted functions from each other\n"
   ]
  },
  {
   "cell_type": "code",
   "execution_count": null,
   "id": "5872f929",
   "metadata": {},
   "outputs": [],
   "source": []
  },
  {
   "cell_type": "code",
   "execution_count": 6,
   "id": "1cb437a4",
   "metadata": {},
   "outputs": [],
   "source": [
    "l = [2, 4, 21, 3., 'a', 'b']\n",
    "\n",
    "# create function that returns the number of int, float and strings elements. \n",
    "# in above examples this is 3, 1, 2"
   ]
  },
  {
   "cell_type": "code",
   "execution_count": null,
   "id": "62b79f51",
   "metadata": {},
   "outputs": [],
   "source": []
  }
 ],
 "metadata": {
  "kernelspec": {
   "display_name": "Python 3 (ipykernel)",
   "language": "python",
   "name": "python3"
  },
  "language_info": {
   "codemirror_mode": {
    "name": "ipython",
    "version": 3
   },
   "file_extension": ".py",
   "mimetype": "text/x-python",
   "name": "python",
   "nbconvert_exporter": "python",
   "pygments_lexer": "ipython3",
   "version": "3.9.7"
  }
 },
 "nbformat": 4,
 "nbformat_minor": 5
}
