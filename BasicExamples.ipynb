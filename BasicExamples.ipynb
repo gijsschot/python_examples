{
 "cells": [
  {
   "cell_type": "markdown",
   "id": "d5271e58",
   "metadata": {},
   "source": [
    "# Introduction to Programming in Python"
   ]
  },
  {
   "cell_type": "markdown",
   "id": "29edfd15",
   "metadata": {},
   "source": [
    "Python is a high-level, general-purpose programming language. Its design philosophy emphasizes <font color='red'> code readability</font> with the use of <font color='red'>significant indentation</font>. Its language constructs and <font color='red'>object-oriented approach</font> aim to help programmers write <font color='red'>clear, logical code</font> for small- and large-scale projects. \n",
    "\n",
    "In this example we are going to calculate the amount of tax paid over some purchases."
   ]
  },
  {
   "cell_type": "code",
   "execution_count": 1,
   "id": "b9d21481",
   "metadata": {},
   "outputs": [],
   "source": [
    "purchase = 1.21"
   ]
  },
  {
   "cell_type": "code",
   "execution_count": 5,
   "id": "38d5743f",
   "metadata": {},
   "outputs": [],
   "source": [
    "# Amount of tax paid?\n",
    "\n",
    "amount = 0"
   ]
  },
  {
   "cell_type": "code",
   "execution_count": 13,
   "id": "b28f8272",
   "metadata": {},
   "outputs": [],
   "source": [
    "# What is the amount of tax paid over the following purchases? Your output variable should be called amount.\n",
    "# SOLUTION 0: use build in function sum\n",
    "# SOLUTION 1: use list comprehension.\n",
    "# SOLUTION 2: use function.\n",
    "# SOLUTION 3: use function with keyword argument.\n",
    "\n",
    "purchases = [1.21, 3.86, 0.12, 9.232, 5000.12]\n"
   ]
  },
  {
   "cell_type": "code",
   "execution_count": 9,
   "id": "a1633563",
   "metadata": {},
   "outputs": [],
   "source": [
    "# Use of sum\n"
   ]
  },
  {
   "cell_type": "code",
   "execution_count": 10,
   "id": "1aaa2ff9",
   "metadata": {},
   "outputs": [],
   "source": [
    "# Use of list comprehension\n"
   ]
  },
  {
   "cell_type": "code",
   "execution_count": 12,
   "id": "9a5b4ba6",
   "metadata": {},
   "outputs": [],
   "source": [
    "# Use of function \n"
   ]
  },
  {
   "cell_type": "code",
   "execution_count": 14,
   "id": "ebcc0fa8",
   "metadata": {},
   "outputs": [],
   "source": [
    "# Use of function with keyword argument\n"
   ]
  },
  {
   "cell_type": "code",
   "execution_count": null,
   "id": "51f56add",
   "metadata": {},
   "outputs": [],
   "source": []
  }
 ],
 "metadata": {
  "kernelspec": {
   "display_name": "Python 3 (ipykernel)",
   "language": "python",
   "name": "python3"
  },
  "language_info": {
   "codemirror_mode": {
    "name": "ipython",
    "version": 3
   },
   "file_extension": ".py",
   "mimetype": "text/x-python",
   "name": "python",
   "nbconvert_exporter": "python",
   "pygments_lexer": "ipython3",
   "version": "3.9.7"
  }
 },
 "nbformat": 4,
 "nbformat_minor": 5
}
