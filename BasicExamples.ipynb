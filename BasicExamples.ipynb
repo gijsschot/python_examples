{
 "cells": [
  {
   "cell_type": "markdown",
   "id": "fb60f772",
   "metadata": {},
   "source": [
    "# Introduction to Programming in Python"
   ]
  },
  {
   "cell_type": "markdown",
   "id": "2194095d",
   "metadata": {},
   "source": [
    "Python is a high-level, general-purpose programming language. Its design philosophy emphasizes <font color='red'> code readability</font> with the use of <font color='red'>significant indentation</font>. Its language constructs and <font color='red'>object-oriented approach</font> aim to help programmers write <font color='red'>clear, logical code</font> for small- and large-scale projects. \n",
    "\n",
    "In this example we are going to calculate the amount of tax paid over some purchases."
   ]
  },
  {
   "cell_type": "code",
   "execution_count": 1,
   "id": "36ca905b",
   "metadata": {},
   "outputs": [],
   "source": [
    "purchase = 1.21"
   ]
  },
  {
   "cell_type": "code",
   "execution_count": 15,
   "id": "3e8b1e1d",
   "metadata": {},
   "outputs": [],
   "source": [
    "# Amount of tax paid?\n",
    "\n",
    "percentage = 21\n",
    "amount = 0"
   ]
  },
  {
   "cell_type": "code",
   "execution_count": 16,
   "id": "26fd2d78",
   "metadata": {},
   "outputs": [],
   "source": [
    "# What is the amount of tax paid over the following purchases? Your output variable should be called amount.\n",
    "# SOLUTION 0: use build in function sum\n",
    "# SOLUTION 1: use list comprehension.\n",
    "# SOLUTION 2: use function.\n",
    "# SOLUTION 3: use function with keyword argument.\n",
    "\n",
    "purchases = [1.21, 3.86, 0.12, 9.232, 5000.12]\n"
   ]
  },
  {
   "cell_type": "code",
   "execution_count": 38,
   "id": "2be64354",
   "metadata": {},
   "outputs": [
    {
     "name": "stdout",
     "output_type": "stream",
     "text": [
      "870.2924132231403\n"
     ]
    }
   ],
   "source": [
    "# Use of sum\n",
    "amount = sum(purchases) * percentage/(100 + percentage)\n",
    "\n",
    "print(amount)"
   ]
  },
  {
   "cell_type": "code",
   "execution_count": 30,
   "id": "81886dcc",
   "metadata": {},
   "outputs": [
    {
     "name": "stdout",
     "output_type": "stream",
     "text": [
      "870.2924132231406\n",
      "<class 'list'>\n"
     ]
    }
   ],
   "source": [
    "# Use of list comprehension\n",
    "\n",
    "list_taxes = [p * percentage /(100+percentage) for p in purchases]\n",
    "\n",
    "print(sum(list_taxes))\n",
    "print(type(purchases))"
   ]
  },
  {
   "cell_type": "code",
   "execution_count": 40,
   "id": "295087a3",
   "metadata": {},
   "outputs": [
    {
     "name": "stdout",
     "output_type": "stream",
     "text": [
      "870.2924132231403\n"
     ]
    }
   ],
   "source": [
    "# Use of function \n",
    "\n",
    "def calc_tax(amount, percentage=21):\n",
    "    \n",
    "    # check datatype of amount\n",
    "    if isinstance(amount, (list, tuple)):\n",
    "        amount = sum(amount)\n",
    "    elif isinstance(amount, (float, int)):\n",
    "        print(type(amount))\n",
    "        pass\n",
    "    else:\n",
    "        raise TypeError('wrong datatype')\n",
    "    \n",
    "    # calculate total tax paid\n",
    "    total = amount*percentage/(100+percentage)\n",
    "    \n",
    "    # return total\n",
    "    return total\n",
    "\n",
    "#list_taxes_0 = [ calc_tax(p) for p in purchases ]\n",
    "\n",
    "tax_amount = calc_tax(purchases)\n",
    "\n",
    "print(tax_amount)"
   ]
  },
  {
   "cell_type": "code",
   "execution_count": 14,
   "id": "689e3773",
   "metadata": {},
   "outputs": [],
   "source": [
    "# Use of function with keyword argument\n"
   ]
  },
  {
   "cell_type": "code",
   "execution_count": null,
   "id": "a2d4c931",
   "metadata": {},
   "outputs": [],
   "source": []
  }
 ],
 "metadata": {
  "kernelspec": {
   "display_name": "Python 3 (ipykernel)",
   "language": "python",
   "name": "python3"
  },
  "language_info": {
   "codemirror_mode": {
    "name": "ipython",
    "version": 3
   },
   "file_extension": ".py",
   "mimetype": "text/x-python",
   "name": "python",
   "nbconvert_exporter": "python",
   "pygments_lexer": "ipython3",
   "version": "3.9.7"
  }
 },
 "nbformat": 4,
 "nbformat_minor": 5
}
